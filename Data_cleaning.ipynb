{
 "cells": [
  {
   "cell_type": "code",
   "execution_count": 1,
   "id": "18a0f232",
   "metadata": {},
   "outputs": [],
   "source": [
    "import pandas as pd \n",
    "import numpy as np\n",
    "import os\n",
    "\n",
    "import regex as re"
   ]
  },
  {
   "cell_type": "code",
   "execution_count": 3,
   "id": "42218f0c",
   "metadata": {},
   "outputs": [],
   "source": [
    "# how to read file from excel\n",
    "df = pd.read_csv('Product_Survery_Results_2025.csv')"
   ]
  },
  {
   "cell_type": "code",
   "execution_count": 7,
   "id": "e969c705",
   "metadata": {},
   "outputs": [
    {
     "data": {
      "text/plain": [
       "Index(['Timestamp', 'Which age group do you belong to?',\n",
       "       'What is your gender?', 'Which category do you currently belong to?',\n",
       "       'Which of the following best describes you?',\n",
       "       'Which of these factors are important to you when deciding which car to purchase?',\n",
       "       'How likely are you to opt for customised vehicle if there were no extra charges? ',\n",
       "       'Which of the following exterior components would you choose to customise (texture, layout, size, etc)? ',\n",
       "       'Which of the following interior components would you choose to customise (texture, layout, size, etc)? ',\n",
       "       'How much are you willing to spend on car customisation if surcharges are applicable?',\n",
       "       'Are you interested in designing your own components to personalise your car? ',\n",
       "       'How much are you willing to pay for the personalised design? ',\n",
       "       'Do you have any 3D design experience that would help with the design process? (e.g. AutoCAD, SolidWorks, Blender, etc)',\n",
       "       'Please give us any design ideas to make the car uniquely Singaporean.'],\n",
       "      dtype='object')"
      ]
     },
     "execution_count": 7,
     "metadata": {},
     "output_type": "execute_result"
    }
   ],
   "source": [
    "df.columns  "
   ]
  },
  {
   "cell_type": "code",
   "execution_count": 8,
   "id": "fb9deae3",
   "metadata": {},
   "outputs": [
    {
     "data": {
      "text/html": [
       "<div>\n",
       "<style scoped>\n",
       "    .dataframe tbody tr th:only-of-type {\n",
       "        vertical-align: middle;\n",
       "    }\n",
       "\n",
       "    .dataframe tbody tr th {\n",
       "        vertical-align: top;\n",
       "    }\n",
       "\n",
       "    .dataframe thead th {\n",
       "        text-align: right;\n",
       "    }\n",
       "</style>\n",
       "<table border=\"1\" class=\"dataframe\">\n",
       "  <thead>\n",
       "    <tr style=\"text-align: right;\">\n",
       "      <th></th>\n",
       "      <th>Timestamp</th>\n",
       "      <th>Which age group do you belong to?</th>\n",
       "      <th>What is your gender?</th>\n",
       "      <th>Which category do you currently belong to?</th>\n",
       "      <th>Which of the following best describes you?</th>\n",
       "      <th>Which of these factors are important to you when deciding which car to purchase?</th>\n",
       "      <th>How likely are you to opt for customised vehicle if there were no extra charges?</th>\n",
       "      <th>Which of the following exterior components would you choose to customise (texture, layout, size, etc)?</th>\n",
       "      <th>Which of the following interior components would you choose to customise (texture, layout, size, etc)?</th>\n",
       "      <th>How much are you willing to spend on car customisation if surcharges are applicable?</th>\n",
       "      <th>Are you interested in designing your own components to personalise your car?</th>\n",
       "      <th>How much are you willing to pay for the personalised design?</th>\n",
       "      <th>Do you have any 3D design experience that would help with the design process? (e.g. AutoCAD, SolidWorks, Blender, etc)</th>\n",
       "      <th>Please give us any design ideas to make the car uniquely Singaporean.</th>\n",
       "    </tr>\n",
       "  </thead>\n",
       "  <tbody>\n",
       "    <tr>\n",
       "      <th>0</th>\n",
       "      <td>2021/10/08 1:52:53 PM GMT+8</td>\n",
       "      <td>20-30</td>\n",
       "      <td>Male</td>\n",
       "      <td>Do not own a car, but planning to purchase in ...</td>\n",
       "      <td>Single</td>\n",
       "      <td>Price</td>\n",
       "      <td>Likely</td>\n",
       "      <td>Wheels</td>\n",
       "      <td>Centre compartment</td>\n",
       "      <td>500-1000</td>\n",
       "      <td>No</td>\n",
       "      <td>500-1000</td>\n",
       "      <td>No, I would need a designer to model my sketch</td>\n",
       "      <td>Nil</td>\n",
       "    </tr>\n",
       "    <tr>\n",
       "      <th>1</th>\n",
       "      <td>2021/10/08 1:53:16 PM GMT+8</td>\n",
       "      <td>20-30</td>\n",
       "      <td>Male</td>\n",
       "      <td>Own more than one car</td>\n",
       "      <td>Single</td>\n",
       "      <td>Price;Brand name;Aesthetics;Technological feat...</td>\n",
       "      <td>Likely</td>\n",
       "      <td>Wheels;Bumpers</td>\n",
       "      <td>Centre compartment;Dashboard</td>\n",
       "      <td>500-1000</td>\n",
       "      <td>Only with professional help</td>\n",
       "      <td>500-1000</td>\n",
       "      <td>No, I would need a designer to model my sketch</td>\n",
       "      <td>NaN</td>\n",
       "    </tr>\n",
       "    <tr>\n",
       "      <th>2</th>\n",
       "      <td>2021/10/08 1:59:56 PM GMT+8</td>\n",
       "      <td>20-30</td>\n",
       "      <td>Male</td>\n",
       "      <td>Do not own a car, but planning to purchase in ...</td>\n",
       "      <td>Single</td>\n",
       "      <td>Price;Technological features;Functionality</td>\n",
       "      <td>Very likely</td>\n",
       "      <td>Wheels;Grilles</td>\n",
       "      <td>Steering wheel;Dashboard</td>\n",
       "      <td>500-1000</td>\n",
       "      <td>No</td>\n",
       "      <td>500-1000</td>\n",
       "      <td>No, I would need a designer to model my sketch</td>\n",
       "      <td>NaN</td>\n",
       "    </tr>\n",
       "    <tr>\n",
       "      <th>3</th>\n",
       "      <td>2021/10/08 2:11:52 PM GMT+8</td>\n",
       "      <td>51-60</td>\n",
       "      <td>Female</td>\n",
       "      <td>Own a car</td>\n",
       "      <td>Married with children</td>\n",
       "      <td>Price;Brand name;Functionality</td>\n",
       "      <td>Very likely</td>\n",
       "      <td>Grilles</td>\n",
       "      <td>Centre compartment;Dashboard;Sun blocker for f...</td>\n",
       "      <td>under 500</td>\n",
       "      <td>Only with professional help</td>\n",
       "      <td>over 1000</td>\n",
       "      <td>No, I would need a designer to model my sketch</td>\n",
       "      <td>It rains a lot so an umbrella holder or extend...</td>\n",
       "    </tr>\n",
       "    <tr>\n",
       "      <th>4</th>\n",
       "      <td>2021/10/08 2:23:51 PM GMT+8</td>\n",
       "      <td>20-30</td>\n",
       "      <td>Male</td>\n",
       "      <td>Own a car</td>\n",
       "      <td>Single</td>\n",
       "      <td>Price;Brand name;Aesthetics;Functionality;Size</td>\n",
       "      <td>Very likely</td>\n",
       "      <td>NaN</td>\n",
       "      <td>Steering wheel;Centre compartment;Door handles...</td>\n",
       "      <td>0</td>\n",
       "      <td>Only with professional help</td>\n",
       "      <td>0</td>\n",
       "      <td>No, I would need a designer to model my sketch</td>\n",
       "      <td>NaN</td>\n",
       "    </tr>\n",
       "  </tbody>\n",
       "</table>\n",
       "</div>"
      ],
      "text/plain": [
       "                     Timestamp Which age group do you belong to?  \\\n",
       "0  2021/10/08 1:52:53 PM GMT+8                             20-30   \n",
       "1  2021/10/08 1:53:16 PM GMT+8                             20-30   \n",
       "2  2021/10/08 1:59:56 PM GMT+8                             20-30   \n",
       "3  2021/10/08 2:11:52 PM GMT+8                             51-60   \n",
       "4  2021/10/08 2:23:51 PM GMT+8                             20-30   \n",
       "\n",
       "  What is your gender?         Which category do you currently belong to?  \\\n",
       "0                 Male  Do not own a car, but planning to purchase in ...   \n",
       "1                 Male                              Own more than one car   \n",
       "2                 Male  Do not own a car, but planning to purchase in ...   \n",
       "3               Female                                          Own a car   \n",
       "4                 Male                                          Own a car   \n",
       "\n",
       "  Which of the following best describes you?  \\\n",
       "0                                     Single   \n",
       "1                                     Single   \n",
       "2                                     Single   \n",
       "3                      Married with children   \n",
       "4                                     Single   \n",
       "\n",
       "  Which of these factors are important to you when deciding which car to purchase?  \\\n",
       "0                                              Price                                 \n",
       "1  Price;Brand name;Aesthetics;Technological feat...                                 \n",
       "2         Price;Technological features;Functionality                                 \n",
       "3                     Price;Brand name;Functionality                                 \n",
       "4     Price;Brand name;Aesthetics;Functionality;Size                                 \n",
       "\n",
       "  How likely are you to opt for customised vehicle if there were no extra charges?   \\\n",
       "0                                             Likely                                  \n",
       "1                                             Likely                                  \n",
       "2                                        Very likely                                  \n",
       "3                                        Very likely                                  \n",
       "4                                        Very likely                                  \n",
       "\n",
       "  Which of the following exterior components would you choose to customise (texture, layout, size, etc)?   \\\n",
       "0                                             Wheels                                                        \n",
       "1                                     Wheels;Bumpers                                                        \n",
       "2                                     Wheels;Grilles                                                        \n",
       "3                                            Grilles                                                        \n",
       "4                                                NaN                                                        \n",
       "\n",
       "  Which of the following interior components would you choose to customise (texture, layout, size, etc)?   \\\n",
       "0                                 Centre compartment                                                        \n",
       "1                       Centre compartment;Dashboard                                                        \n",
       "2                           Steering wheel;Dashboard                                                        \n",
       "3  Centre compartment;Dashboard;Sun blocker for f...                                                        \n",
       "4  Steering wheel;Centre compartment;Door handles...                                                        \n",
       "\n",
       "  How much are you willing to spend on car customisation if surcharges are applicable?  \\\n",
       "0                                           500-1000                                     \n",
       "1                                           500-1000                                     \n",
       "2                                           500-1000                                     \n",
       "3                                          under 500                                     \n",
       "4                                                  0                                     \n",
       "\n",
       "  Are you interested in designing your own components to personalise your car?   \\\n",
       "0                                                 No                              \n",
       "1                        Only with professional help                              \n",
       "2                                                 No                              \n",
       "3                        Only with professional help                              \n",
       "4                        Only with professional help                              \n",
       "\n",
       "  How much are you willing to pay for the personalised design?   \\\n",
       "0                                           500-1000              \n",
       "1                                           500-1000              \n",
       "2                                           500-1000              \n",
       "3                                          over 1000              \n",
       "4                                                  0              \n",
       "\n",
       "  Do you have any 3D design experience that would help with the design process? (e.g. AutoCAD, SolidWorks, Blender, etc)  \\\n",
       "0     No, I would need a designer to model my sketch                                                                       \n",
       "1     No, I would need a designer to model my sketch                                                                       \n",
       "2     No, I would need a designer to model my sketch                                                                       \n",
       "3     No, I would need a designer to model my sketch                                                                       \n",
       "4     No, I would need a designer to model my sketch                                                                       \n",
       "\n",
       "  Please give us any design ideas to make the car uniquely Singaporean.  \n",
       "0                                                Nil                     \n",
       "1                                                NaN                     \n",
       "2                                                NaN                     \n",
       "3  It rains a lot so an umbrella holder or extend...                     \n",
       "4                                                NaN                     "
      ]
     },
     "execution_count": 8,
     "metadata": {},
     "output_type": "execute_result"
    }
   ],
   "source": [
    "df.head()"
   ]
  },
  {
   "cell_type": "markdown",
   "id": "3d9ae471",
   "metadata": {},
   "source": [
    "## Data cleaning"
   ]
  },
  {
   "cell_type": "markdown",
   "id": "3765ac00",
   "metadata": {},
   "source": [
    "\n",
    "### Missing values checking"
   ]
  },
  {
   "cell_type": "code",
   "execution_count": 43,
   "id": "91db389d",
   "metadata": {},
   "outputs": [
    {
     "name": "stdout",
     "output_type": "stream",
     "text": [
      "Checking for missing values\n",
      "\n",
      "Timestamp                                                                                                                  0\n",
      "Which age group do you belong to?                                                                                          0\n",
      "What is your gender?                                                                                                       0\n",
      "Which category do you currently belong to?                                                                                 0\n",
      "Which of the following best describes you?                                                                                 0\n",
      "Which of these factors are important to you when deciding which car to purchase?                                           1\n",
      "How likely are you to opt for customised vehicle if there were no extra charges?                                           0\n",
      "Which of the following exterior components would you choose to customise (texture, layout, size, etc)?                     2\n",
      "Which of the following interior components would you choose to customise (texture, layout, size, etc)?                     0\n",
      "How much are you willing to spend on car customisation if surcharges are applicable?                                       0\n",
      "Are you interested in designing your own components to personalise your car?                                               0\n",
      "How much are you willing to pay for the personalised design?                                                               0\n",
      "Do you have any 3D design experience that would help with the design process? (e.g. AutoCAD, SolidWorks, Blender, etc)     0\n",
      "Please give us any design ideas to make the car uniquely Singaporean.                                                     32\n",
      "dtype: int64\n",
      " \n",
      "Total na value : 35\n",
      "Comments: Assumptions are all the NA values are considered as no opinion rather than missing value\n"
     ]
    }
   ],
   "source": [
    "print(\"Checking for missing values\")\n",
    "print(\"\")\n",
    "# i want to find the total number of na values\n",
    "print(df.isna().sum(axis = 0))\n",
    "print(\" \")\n",
    "# how do i sum all the na value column\n",
    "print(f\"Total na value : {df.isna().sum().sum()}\")\n",
    "print(\"Comments: Assumptions are all the NA values are considered as no opinion rather than missing value\")"
   ]
  },
  {
   "cell_type": "markdown",
   "id": "b1b5a3ad",
   "metadata": {},
   "source": [
    "## Data transforming (mainly just creating columns and one hot encode it)"
   ]
  },
  {
   "cell_type": "markdown",
   "id": "51af1ebf",
   "metadata": {},
   "source": [
    "### Initializing required list"
   ]
  },
  {
   "cell_type": "code",
   "execution_count": 13,
   "id": "e3070026",
   "metadata": {},
   "outputs": [
    {
     "name": "stdout",
     "output_type": "stream",
     "text": [
      "Initialize required list and make a copy of the dataframe to clean_df\n",
      " \n",
      "Which of these factors are important to you when deciding which car to purchase?\n",
      "Which of the following exterior components would you choose to customise (texture, layout, size, etc)? \n",
      "Which of the following interior components would you choose to customise (texture, layout, size, etc)? \n"
     ]
    }
   ],
   "source": [
    "# [6] factors\n",
    "# [8] Which of the following exterior components would you choose to customise (texture, layout, size, etc)? \n",
    "# [9] Which of the following interior components would you choose to customise (texture, layout, size, etc)? \n",
    "col_name1 = df.columns[5]\n",
    "col_name2 = df.columns[7]\n",
    "col_name3 = df.columns[8]\n",
    "print(\"Initialize required list and make a copy of the dataframe to clean_df\")\n",
    "print(\" \")\n",
    "print(col_name1)\n",
    "print(col_name2)\n",
    "print(col_name3)\n",
    "\n",
    "# how to make a copy of the dataframe\n",
    "clean_df = df.copy()"
   ]
  },
  {
   "cell_type": "code",
   "execution_count": null,
   "id": "14324898",
   "metadata": {},
   "outputs": [
    {
     "name": "stdout",
     "output_type": "stream",
     "text": [
      "Obtaining the unique factors\n",
      "the unique value = 8\n",
      "['Price', 'Brand name', 'Aesthetics', 'Technological features', 'Functionality', 'Size', 'Sustainability/environment considerations', 'Customisable options']\n"
     ]
    }
   ],
   "source": [
    "factor_list = []\n",
    "for i in clean_df[col_name1]:\n",
    "    temp = str(i).split(\";\")\n",
    "    for j in temp:\n",
    "        if j not in factor_list:\n",
    "            if j == \"nan\":\n",
    "                continue\n",
    "            factor_list.append(j)\n",
    "\n",
    "\n",
    "print(f\"Obtaining the unique factors\")\n",
    "print(f\"the unique value = {len(factor_list)}\")\n",
    "#add a factor infront \n",
    "print(factor_list)"
   ]
  },
  {
   "cell_type": "code",
   "execution_count": 15,
   "id": "3481edcb",
   "metadata": {},
   "outputs": [
    {
     "name": "stdout",
     "output_type": "stream",
     "text": [
      "Obtaining the unique exterior\n",
      "the unique value = 5\n",
      "['Wheels', 'Bumpers', 'Grilles', 'Headlights', 'Side mirrors']\n"
     ]
    }
   ],
   "source": [
    "exterior_list = []\n",
    "for i in clean_df[col_name2]:\n",
    "    temp = str(i).split(\";\")\n",
    "    for j in temp:\n",
    "        if j not in exterior_list:\n",
    "            if j == \"nan\":\n",
    "                continue\n",
    "            exterior_list.append(j)\n",
    "\n",
    "\n",
    "print(f\"Obtaining the unique exterior\")\n",
    "print(f\"the unique value = {len(exterior_list)}\")\n",
    "print(exterior_list)"
   ]
  },
  {
   "cell_type": "code",
   "execution_count": 16,
   "id": "73c5e1c9",
   "metadata": {},
   "outputs": [
    {
     "name": "stdout",
     "output_type": "stream",
     "text": [
      "Obtaining the unique interior\n",
      "the unique value = 6\n",
      "['Centre compartment', 'Dashboard', 'Steering wheel', 'Sun blocker for front passengers', 'Door handles', 'air vent']\n"
     ]
    }
   ],
   "source": [
    "interior_list = []\n",
    "for i in clean_df[col_name3]:\n",
    "    temp = str(i).split(\";\")\n",
    "    for j in temp:\n",
    "        if j not in interior_list:\n",
    "            if j == \"nan\":\n",
    "                continue\n",
    "            interior_list.append(j)\n",
    "\n",
    "\n",
    "print(f\"Obtaining the unique interior\")\n",
    "print(f\"the unique value = {len(interior_list)}\")\n",
    "print(interior_list)"
   ]
  },
  {
   "cell_type": "markdown",
   "id": "9a47f0dd",
   "metadata": {},
   "source": [
    "### One hot encoding the factor columns first\n"
   ]
  },
  {
   "cell_type": "code",
   "execution_count": 17,
   "id": "c3722da5",
   "metadata": {},
   "outputs": [
    {
     "name": "stdout",
     "output_type": "stream",
     "text": [
      "One hot encoding the factors\n"
     ]
    }
   ],
   "source": [
    "#print(col_name1)\n",
    "#print(factor_list)\n",
    "print(\"One hot encoding the factors\")\n",
    "\n",
    "for factor in factor_list:\n",
    "    clean_df[factor] = clean_df[col_name1].apply(lambda x: f\"factor_{factor}_y\" if factor in str(x) else f\"factor_{factor}_n\")\n",
    "    "
   ]
  },
  {
   "cell_type": "code",
   "execution_count": 18,
   "id": "d5537bf6",
   "metadata": {},
   "outputs": [
    {
     "name": "stdout",
     "output_type": "stream",
     "text": [
      "One hot encoding the exterior\n"
     ]
    }
   ],
   "source": [
    "# print(col_name2)\n",
    "# print(exterior_list)\n",
    "print(\"One hot encoding the exterior\")\n",
    "\n",
    "# creating the columns\n",
    "for exterior in exterior_list:\n",
    "    clean_df[exterior] = clean_df[col_name2].apply(lambda x: f\"exterior_{exterior}_y\" if exterior in str(x) else f\"exterior_{exterior}_n\")\n"
   ]
  },
  {
   "cell_type": "code",
   "execution_count": 19,
   "id": "4a041f20",
   "metadata": {},
   "outputs": [
    {
     "name": "stdout",
     "output_type": "stream",
     "text": [
      "One hot encoding the interior\n"
     ]
    }
   ],
   "source": [
    "# print(col_name3)\n",
    "# print(interior_list)\n",
    "print(\"One hot encoding the interior\")\n",
    "# creating the columns\n",
    "for interior in interior_list:\n",
    "    clean_df[interior] = clean_df[col_name3].apply(lambda x: f\"interior_{interior}_y\" if interior in str(x) else f\"interior_{interior}_n\")\n"
   ]
  },
  {
   "cell_type": "code",
   "execution_count": 20,
   "id": "c31f0dd7",
   "metadata": {},
   "outputs": [
    {
     "name": "stdout",
     "output_type": "stream",
     "text": [
      "remove the parent column after encoding\n"
     ]
    }
   ],
   "source": [
    "print(\"remove the parent column after encoding\")\n",
    "clean_df.drop(columns = [col_name1, col_name2, col_name3], inplace = True)"
   ]
  },
  {
   "cell_type": "code",
   "execution_count": 21,
   "id": "aa2ac078",
   "metadata": {},
   "outputs": [
    {
     "name": "stdout",
     "output_type": "stream",
     "text": [
      "Rename the one hot encoded name by adding the parent column name as prefix\n"
     ]
    }
   ],
   "source": [
    "print(\"Rename the one hot encoded name by adding the parent column name as prefix\")\n",
    "\n",
    "for columns in clean_df.columns:\n",
    "    if str(columns) in factor_list:\n",
    "        clean_df.rename(columns={columns: \"factor_\" + columns}, inplace = True)\n",
    "\n",
    "    elif str(columns) in exterior_list:\n",
    "        clean_df.rename(columns={columns: \"exterior_\" + columns}, inplace = True)\n",
    "    \n",
    "    elif str(columns) in interior_list:\n",
    "        clean_df.rename(columns={columns: \"interior_\" + columns}, inplace = True)\n",
    "    \n",
    "    else: \n",
    "        pass\n"
   ]
  },
  {
   "cell_type": "markdown",
   "id": "c06f4ba3",
   "metadata": {},
   "source": [
    "### Rename the other columns"
   ]
  },
  {
   "cell_type": "code",
   "execution_count": 22,
   "id": "c48d5659",
   "metadata": {},
   "outputs": [
    {
     "name": "stdout",
     "output_type": "stream",
     "text": [
      "Dictionary pairs for the columns name for renaming\n",
      "{'Which age group do you belong to?': 'Age group', 'What is your gender?': 'Gender', 'Which category do you currently belong to?': 'Do you own a car?', 'Which of the following best describes you?': 'Marital status', 'Which of these factors are important to you when deciding which car to purchase?': 'Important factors', 'How likely are you to opt for customised vehicle if there were no extra charges?': 'Customise vehicle', 'Which of the following exterior components would you choose to customise (texture, layout, size, etc)?': 'Exterior component', 'Which of the following interior components would you choose to customise (texture, layout, size, etc)?': 'Interior component', 'How much are you willing to spend on car customisation if surcharges are applicable?': 'Spending on customisation', 'Are you interested in designing your own components to personalise your car?': 'Designing your own car', 'How much are you willing to pay for the personalised design?': 'Spending on design', 'Do you have any 3D design experience that would help with the design process? (e.g. AutoCAD, SolidWorks, Blender, etc)': '3D experience', 'Please give us any design ideas to make the car uniquely Singaporean.': 'Design ideas'}\n"
     ]
    }
   ],
   "source": [
    "print(\"Dictionary pairs for the columns name for renaming\")\n",
    "column_name_new_keypair = {\n",
    "    \"Which age group do you belong to?\": \"Age group\",\n",
    "    \"What is your gender?\": \"Gender\",\n",
    "    \"Which category do you currently belong to?\": \"Do you own a car?\",\n",
    "    \"Which of the following best describes you?\": \"Marital status\",\n",
    "    \"Which of these factors are important to you when deciding which car to purchase?\": \"Important factors\",\n",
    "    \"How likely are you to opt for customised vehicle if there were no extra charges?\": \"Customise vehicle\",\n",
    "    \"Which of the following exterior components would you choose to customise (texture, layout, size, etc)?\": \"Exterior component\",\n",
    "    \"Which of the following interior components would you choose to customise (texture, layout, size, etc)?\": \"Interior component\",\n",
    "    \"How much are you willing to spend on car customisation if surcharges are applicable?\": \"Spending on customisation\",\n",
    "    \"Are you interested in designing your own components to personalise your car?\": \"Designing your own car\",\n",
    "    \"How much are you willing to pay for the personalised design?\": \"Spending on design\",\n",
    "    \"Do you have any 3D design experience that would help with the design process? (e.g. AutoCAD, SolidWorks, Blender, etc)\": \"3D experience\",\n",
    "    \"Please give us any design ideas to make the car uniquely Singaporean.\": \"Design ideas\"\n",
    "}\n",
    "# Print dictionary to verify\n",
    "print(column_name_new_keypair)\n"
   ]
  },
  {
   "cell_type": "code",
   "execution_count": 23,
   "id": "ab3e0183",
   "metadata": {},
   "outputs": [
    {
     "name": "stdout",
     "output_type": "stream",
     "text": [
      "strip the column name\n"
     ]
    }
   ],
   "source": [
    "print(\"strip the column name\")\n",
    "clean_df.columns = clean_df.columns.str.strip()"
   ]
  },
  {
   "cell_type": "code",
   "execution_count": 24,
   "id": "66d33df1",
   "metadata": {},
   "outputs": [
    {
     "name": "stdout",
     "output_type": "stream",
     "text": [
      "renaming the column\n"
     ]
    }
   ],
   "source": [
    "print(\"renaming the column\")\n",
    "\n",
    "for key,value in column_name_new_keypair.items():\n",
    "    if key in clean_df.columns:\n",
    "        clean_df.rename(columns={key: value}, inplace = True)"
   ]
  },
  {
   "cell_type": "code",
   "execution_count": 44,
   "id": "1cffe235",
   "metadata": {},
   "outputs": [
    {
     "data": {
      "text/html": [
       "<div>\n",
       "<style scoped>\n",
       "    .dataframe tbody tr th:only-of-type {\n",
       "        vertical-align: middle;\n",
       "    }\n",
       "\n",
       "    .dataframe tbody tr th {\n",
       "        vertical-align: top;\n",
       "    }\n",
       "\n",
       "    .dataframe thead th {\n",
       "        text-align: right;\n",
       "    }\n",
       "</style>\n",
       "<table border=\"1\" class=\"dataframe\">\n",
       "  <thead>\n",
       "    <tr style=\"text-align: right;\">\n",
       "      <th></th>\n",
       "      <th>Timestamp</th>\n",
       "      <th>Age group</th>\n",
       "      <th>Gender</th>\n",
       "      <th>Do you own a car?</th>\n",
       "      <th>Marital status</th>\n",
       "      <th>Customise vehicle</th>\n",
       "      <th>Spending on customisation</th>\n",
       "      <th>Designing your own car</th>\n",
       "      <th>Spending on design</th>\n",
       "      <th>3D experience</th>\n",
       "      <th>...</th>\n",
       "      <th>exterior_Bumpers</th>\n",
       "      <th>exterior_Grilles</th>\n",
       "      <th>exterior_Headlights</th>\n",
       "      <th>exterior_Side mirrors</th>\n",
       "      <th>interior_Centre compartment</th>\n",
       "      <th>interior_Dashboard</th>\n",
       "      <th>interior_Steering wheel</th>\n",
       "      <th>interior_Sun blocker for front passengers</th>\n",
       "      <th>interior_Door handles</th>\n",
       "      <th>interior_air vent</th>\n",
       "    </tr>\n",
       "  </thead>\n",
       "  <tbody>\n",
       "    <tr>\n",
       "      <th>0</th>\n",
       "      <td>2021/10/08 1:52:53 PM GMT+8</td>\n",
       "      <td>20-30</td>\n",
       "      <td>Male</td>\n",
       "      <td>Do not own a car, but planning to purchase in ...</td>\n",
       "      <td>Single</td>\n",
       "      <td>Likely</td>\n",
       "      <td>500-1000</td>\n",
       "      <td>No</td>\n",
       "      <td>500-1000</td>\n",
       "      <td>No, I would need a designer to model my sketch</td>\n",
       "      <td>...</td>\n",
       "      <td>exterior_Bumpers_n</td>\n",
       "      <td>exterior_Grilles_n</td>\n",
       "      <td>exterior_Headlights_n</td>\n",
       "      <td>exterior_Side mirrors_n</td>\n",
       "      <td>interior_Centre compartment_y</td>\n",
       "      <td>interior_Dashboard_n</td>\n",
       "      <td>interior_Steering wheel_n</td>\n",
       "      <td>interior_Sun blocker for front passengers_n</td>\n",
       "      <td>interior_Door handles_n</td>\n",
       "      <td>interior_air vent_n</td>\n",
       "    </tr>\n",
       "    <tr>\n",
       "      <th>1</th>\n",
       "      <td>2021/10/08 1:53:16 PM GMT+8</td>\n",
       "      <td>20-30</td>\n",
       "      <td>Male</td>\n",
       "      <td>Own more than one car</td>\n",
       "      <td>Single</td>\n",
       "      <td>Likely</td>\n",
       "      <td>500-1000</td>\n",
       "      <td>Only with professional help</td>\n",
       "      <td>500-1000</td>\n",
       "      <td>No, I would need a designer to model my sketch</td>\n",
       "      <td>...</td>\n",
       "      <td>exterior_Bumpers_y</td>\n",
       "      <td>exterior_Grilles_n</td>\n",
       "      <td>exterior_Headlights_n</td>\n",
       "      <td>exterior_Side mirrors_n</td>\n",
       "      <td>interior_Centre compartment_y</td>\n",
       "      <td>interior_Dashboard_y</td>\n",
       "      <td>interior_Steering wheel_n</td>\n",
       "      <td>interior_Sun blocker for front passengers_n</td>\n",
       "      <td>interior_Door handles_n</td>\n",
       "      <td>interior_air vent_n</td>\n",
       "    </tr>\n",
       "    <tr>\n",
       "      <th>2</th>\n",
       "      <td>2021/10/08 1:59:56 PM GMT+8</td>\n",
       "      <td>20-30</td>\n",
       "      <td>Male</td>\n",
       "      <td>Do not own a car, but planning to purchase in ...</td>\n",
       "      <td>Single</td>\n",
       "      <td>Likely</td>\n",
       "      <td>500-1000</td>\n",
       "      <td>No</td>\n",
       "      <td>500-1000</td>\n",
       "      <td>No, I would need a designer to model my sketch</td>\n",
       "      <td>...</td>\n",
       "      <td>exterior_Bumpers_n</td>\n",
       "      <td>exterior_Grilles_y</td>\n",
       "      <td>exterior_Headlights_n</td>\n",
       "      <td>exterior_Side mirrors_n</td>\n",
       "      <td>interior_Centre compartment_n</td>\n",
       "      <td>interior_Dashboard_y</td>\n",
       "      <td>interior_Steering wheel_y</td>\n",
       "      <td>interior_Sun blocker for front passengers_n</td>\n",
       "      <td>interior_Door handles_n</td>\n",
       "      <td>interior_air vent_n</td>\n",
       "    </tr>\n",
       "    <tr>\n",
       "      <th>3</th>\n",
       "      <td>2021/10/08 2:11:52 PM GMT+8</td>\n",
       "      <td>51-60</td>\n",
       "      <td>Female</td>\n",
       "      <td>Own a car</td>\n",
       "      <td>Married with children</td>\n",
       "      <td>Likely</td>\n",
       "      <td>under 500</td>\n",
       "      <td>Only with professional help</td>\n",
       "      <td>over 1000</td>\n",
       "      <td>No, I would need a designer to model my sketch</td>\n",
       "      <td>...</td>\n",
       "      <td>exterior_Bumpers_n</td>\n",
       "      <td>exterior_Grilles_y</td>\n",
       "      <td>exterior_Headlights_n</td>\n",
       "      <td>exterior_Side mirrors_n</td>\n",
       "      <td>interior_Centre compartment_y</td>\n",
       "      <td>interior_Dashboard_y</td>\n",
       "      <td>interior_Steering wheel_n</td>\n",
       "      <td>interior_Sun blocker for front passengers_y</td>\n",
       "      <td>interior_Door handles_n</td>\n",
       "      <td>interior_air vent_n</td>\n",
       "    </tr>\n",
       "    <tr>\n",
       "      <th>4</th>\n",
       "      <td>2021/10/08 2:23:51 PM GMT+8</td>\n",
       "      <td>20-30</td>\n",
       "      <td>Male</td>\n",
       "      <td>Own a car</td>\n",
       "      <td>Single</td>\n",
       "      <td>Likely</td>\n",
       "      <td>0</td>\n",
       "      <td>Only with professional help</td>\n",
       "      <td>0</td>\n",
       "      <td>No, I would need a designer to model my sketch</td>\n",
       "      <td>...</td>\n",
       "      <td>exterior_Bumpers_n</td>\n",
       "      <td>exterior_Grilles_n</td>\n",
       "      <td>exterior_Headlights_n</td>\n",
       "      <td>exterior_Side mirrors_n</td>\n",
       "      <td>interior_Centre compartment_y</td>\n",
       "      <td>interior_Dashboard_y</td>\n",
       "      <td>interior_Steering wheel_y</td>\n",
       "      <td>interior_Sun blocker for front passengers_n</td>\n",
       "      <td>interior_Door handles_y</td>\n",
       "      <td>interior_air vent_n</td>\n",
       "    </tr>\n",
       "  </tbody>\n",
       "</table>\n",
       "<p>5 rows × 30 columns</p>\n",
       "</div>"
      ],
      "text/plain": [
       "                     Timestamp Age group  Gender  \\\n",
       "0  2021/10/08 1:52:53 PM GMT+8     20-30    Male   \n",
       "1  2021/10/08 1:53:16 PM GMT+8     20-30    Male   \n",
       "2  2021/10/08 1:59:56 PM GMT+8     20-30    Male   \n",
       "3  2021/10/08 2:11:52 PM GMT+8     51-60  Female   \n",
       "4  2021/10/08 2:23:51 PM GMT+8     20-30    Male   \n",
       "\n",
       "                                   Do you own a car?         Marital status  \\\n",
       "0  Do not own a car, but planning to purchase in ...                 Single   \n",
       "1                              Own more than one car                 Single   \n",
       "2  Do not own a car, but planning to purchase in ...                 Single   \n",
       "3                                          Own a car  Married with children   \n",
       "4                                          Own a car                 Single   \n",
       "\n",
       "  Customise vehicle Spending on customisation       Designing your own car  \\\n",
       "0            Likely                  500-1000                           No   \n",
       "1            Likely                  500-1000  Only with professional help   \n",
       "2            Likely                  500-1000                           No   \n",
       "3            Likely                 under 500  Only with professional help   \n",
       "4            Likely                         0  Only with professional help   \n",
       "\n",
       "  Spending on design                                   3D experience  ...  \\\n",
       "0           500-1000  No, I would need a designer to model my sketch  ...   \n",
       "1           500-1000  No, I would need a designer to model my sketch  ...   \n",
       "2           500-1000  No, I would need a designer to model my sketch  ...   \n",
       "3          over 1000  No, I would need a designer to model my sketch  ...   \n",
       "4                  0  No, I would need a designer to model my sketch  ...   \n",
       "\n",
       "     exterior_Bumpers    exterior_Grilles    exterior_Headlights  \\\n",
       "0  exterior_Bumpers_n  exterior_Grilles_n  exterior_Headlights_n   \n",
       "1  exterior_Bumpers_y  exterior_Grilles_n  exterior_Headlights_n   \n",
       "2  exterior_Bumpers_n  exterior_Grilles_y  exterior_Headlights_n   \n",
       "3  exterior_Bumpers_n  exterior_Grilles_y  exterior_Headlights_n   \n",
       "4  exterior_Bumpers_n  exterior_Grilles_n  exterior_Headlights_n   \n",
       "\n",
       "     exterior_Side mirrors    interior_Centre compartment  \\\n",
       "0  exterior_Side mirrors_n  interior_Centre compartment_y   \n",
       "1  exterior_Side mirrors_n  interior_Centre compartment_y   \n",
       "2  exterior_Side mirrors_n  interior_Centre compartment_n   \n",
       "3  exterior_Side mirrors_n  interior_Centre compartment_y   \n",
       "4  exterior_Side mirrors_n  interior_Centre compartment_y   \n",
       "\n",
       "     interior_Dashboard    interior_Steering wheel  \\\n",
       "0  interior_Dashboard_n  interior_Steering wheel_n   \n",
       "1  interior_Dashboard_y  interior_Steering wheel_n   \n",
       "2  interior_Dashboard_y  interior_Steering wheel_y   \n",
       "3  interior_Dashboard_y  interior_Steering wheel_n   \n",
       "4  interior_Dashboard_y  interior_Steering wheel_y   \n",
       "\n",
       "     interior_Sun blocker for front passengers    interior_Door handles  \\\n",
       "0  interior_Sun blocker for front passengers_n  interior_Door handles_n   \n",
       "1  interior_Sun blocker for front passengers_n  interior_Door handles_n   \n",
       "2  interior_Sun blocker for front passengers_n  interior_Door handles_n   \n",
       "3  interior_Sun blocker for front passengers_y  interior_Door handles_n   \n",
       "4  interior_Sun blocker for front passengers_n  interior_Door handles_y   \n",
       "\n",
       "     interior_air vent  \n",
       "0  interior_air vent_n  \n",
       "1  interior_air vent_n  \n",
       "2  interior_air vent_n  \n",
       "3  interior_air vent_n  \n",
       "4  interior_air vent_n  \n",
       "\n",
       "[5 rows x 30 columns]"
      ]
     },
     "execution_count": 44,
     "metadata": {},
     "output_type": "execute_result"
    }
   ],
   "source": [
    "clean_df.head(5)"
   ]
  },
  {
   "cell_type": "code",
   "execution_count": 49,
   "id": "17e4dc41",
   "metadata": {},
   "outputs": [
    {
     "name": "stdout",
     "output_type": "stream",
     "text": [
      "Index(['Timestamp', 'Age group', 'Gender', 'Do you own a car?',\n",
      "       'Marital status', 'Customise vehicle', 'Spending on customisation',\n",
      "       'Designing your own car', 'Spending on design', '3D experience',\n",
      "       'Design ideas', 'factor_Price', 'factor_Brand name',\n",
      "       'factor_Aesthetics', 'factor_Technological features',\n",
      "       'factor_Functionality', 'factor_Size',\n",
      "       'factor_Sustainability/environment considerations',\n",
      "       'factor_Customisable options', 'exterior_Wheels', 'exterior_Bumpers',\n",
      "       'exterior_Grilles', 'exterior_Headlights', 'exterior_Side mirrors',\n",
      "       'interior_Centre compartment', 'interior_Dashboard',\n",
      "       'interior_Steering wheel', 'interior_Sun blocker for front passengers',\n",
      "       'interior_Door handles', 'interior_air vent'],\n",
      "      dtype='object')\n",
      "\n",
      "Comment: The column name has been cleaned and renamed\n"
     ]
    }
   ],
   "source": [
    "print(clean_df.columns)\n",
    "\n",
    "print(\"\\nComment: The column name has been cleaned and renamed\")"
   ]
  },
  {
   "cell_type": "markdown",
   "id": "db1a4b99",
   "metadata": {},
   "source": [
    "### Combining the Likely and Very Likely in the \"Customise vehicle\" column"
   ]
  },
  {
   "cell_type": "code",
   "execution_count": 39,
   "id": "a3fb4773",
   "metadata": {},
   "outputs": [
    {
     "data": {
      "text/plain": [
       "array(['Likely', 'Not likely'], dtype=object)"
      ]
     },
     "execution_count": 39,
     "metadata": {},
     "output_type": "execute_result"
    }
   ],
   "source": [
    "col_var = clean_df.columns[5]\n",
    "col_var\n",
    "\n",
    "clean_df[col_var] = clean_df[col_var].apply(lambda x: \"Likely\" if str(x).strip().lower() == \"very likely\" else str(x).strip())\n",
    "\n",
    "clean_df[col_var].unique()"
   ]
  },
  {
   "cell_type": "code",
   "execution_count": 41,
   "id": "5b47905e",
   "metadata": {},
   "outputs": [
    {
     "name": "stdout",
     "output_type": "stream",
     "text": [
      "Exporting the excel\n"
     ]
    }
   ],
   "source": [
    "print(\"Exporting the excel\")\n",
    "clean_df.to_csv(\"Product_Survery_Results_2025 - (changed).csv\", index=False)"
   ]
  },
  {
   "cell_type": "markdown",
   "id": "519b1134",
   "metadata": {},
   "source": [
    "## This section is used to identify what are the unique value for each column"
   ]
  },
  {
   "cell_type": "code",
   "execution_count": 206,
   "id": "03f145db",
   "metadata": {},
   "outputs": [
    {
     "name": "stdout",
     "output_type": "stream",
     "text": [
      "Index(['Timestamp', 'Which age group do you belong to?',\n",
      "       'What is your gender?', 'Which category do you currently belong to?',\n",
      "       'Which of the following best describes you?',\n",
      "       'Which of these factors are important to you when deciding which car to purchase?',\n",
      "       'How likely are you to opt for customised vehicle if there were no extra charges? ',\n",
      "       'Which of the following exterior components would you choose to customise (texture, layout, size, etc)? ',\n",
      "       'Which of the following interior components would you choose to customise (texture, layout, size, etc)? ',\n",
      "       'How much are you willing to spend on car customisation if surcharges are applicable?',\n",
      "       'Are you interested in designing your own components to personalise your car? ',\n",
      "       'How much are you willing to pay for the personalised design? ',\n",
      "       'Do you have any 3D design experience that would help with the design process? (e.g. AutoCAD, SolidWorks, Blender, etc)',\n",
      "       'Please give us any design ideas to make the car uniquely Singaporean.'],\n",
      "      dtype='object')\n",
      "3\n",
      "['Do not own a car, but planning to purchase in future'\n",
      " 'Own more than one car' 'Own a car']\n",
      "Which category do you currently belong to?\n"
     ]
    }
   ],
   "source": [
    "print(df.columns) #ignore the first column which is timestamp\n",
    "\n",
    "#multi value columns = [5,7,8,13]\n",
    "\n",
    "col_num = 3 #change this value to see unique values for each column, 1-13\n",
    "print(len(df[df.columns[col_num]].unique()))\n",
    "print(df[df.columns[col_num]].unique())\n",
    "print(df.columns[col_num])\n",
    "\n",
    "\n",
    "\n",
    "#comments: it seems like the features can be one hot encoded\n",
    "# #how do we solve this issue?"
   ]
  }
 ],
 "metadata": {
  "kernelspec": {
   "display_name": "base",
   "language": "python",
   "name": "python3"
  },
  "language_info": {
   "codemirror_mode": {
    "name": "ipython",
    "version": 3
   },
   "file_extension": ".py",
   "mimetype": "text/x-python",
   "name": "python",
   "nbconvert_exporter": "python",
   "pygments_lexer": "ipython3",
   "version": "3.12.3"
  }
 },
 "nbformat": 4,
 "nbformat_minor": 5
}
